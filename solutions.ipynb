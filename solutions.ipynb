{
 "cells": [
  {
   "cell_type": "markdown",
   "metadata": {},
   "source": [
    "# Data Science Solutions\n",
    "## workflow stages \n",
    "1. Question or problem definition\n",
    "2. Acquire training and testing data \n",
    "3. Wrange, prepare, cleanse the data \n",
    "4. Analyze, identify patterns, and explore the data\n",
    "5. Model, predict and solve the problem\n",
    "6. Visualize, repot, and present the problem solving steps and final solution\n",
    "7. Supply or submit the results\n",
    "\n"
   ]
  },
  {
   "cell_type": "markdown",
   "metadata": {},
   "source": [
    "## in some cases there are exceptions\n",
    "\n",
    "1. combine mulitple workflow \n",
    "2. perform a stage earlier than indicated \n",
    "3. perform a stage multiple times \n",
    "4. drop a stage "
   ]
  },
  {
   "cell_type": "markdown",
   "metadata": {},
   "source": [
    "# Develop some early understanding about the domain of our problem\n"
   ]
  },
  {
   "cell_type": "markdown",
   "metadata": {},
   "source": [
    "* killing 1502 of 2224 --> 32% survival rate\n",
    "* one of the reasons kill people is not enough lifeboats\n",
    "* some group of people more likely survive than others"
   ]
  },
  {
   "cell_type": "markdown",
   "metadata": {},
   "source": [
    "# Workflow goals \n",
    "* Classifying \n",
    "* Correlating \n",
    "* Converting \n",
    "* Completing\n",
    "* Correcting \n",
    "* Creating\n",
    "* Charting "
   ]
  },
  {
   "cell_type": "code",
   "execution_count": null,
   "metadata": {},
   "outputs": [],
   "source": [
    "# data analysis and wrangling\n",
    "import pandas as pd \n",
    "import numpy as np\n",
    "import random as rod\n",
    "\n",
    "# visualization\n",
    "import seaborn as sns\n",
    "import matplotlib.pyplot as plt\n",
    "%matplotlib inline\n",
    "\n",
    "# machine learning\n",
    "i"
   ]
  }
 ],
 "metadata": {
  "interpreter": {
   "hash": "665c9362c857ab9fab2bd3645e927e21c39961eb9c03ec3f963d4db5fcabf320"
  },
  "kernelspec": {
   "display_name": "Python 3.9.7 ('torch')",
   "language": "python",
   "name": "python3"
  },
  "language_info": {
   "name": "python",
   "version": "3.9.7"
  },
  "orig_nbformat": 4
 },
 "nbformat": 4,
 "nbformat_minor": 2
}
